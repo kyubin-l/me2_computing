{
 "cells": [
  {
   "cell_type": "code",
   "execution_count": 148,
   "metadata": {},
   "outputs": [],
   "source": [
    "import numpy as np\n",
    "import matplotlib.pyplot as plt"
   ]
  },
  {
   "cell_type": "code",
   "execution_count": 188,
   "metadata": {
    "scrolled": true
   },
   "outputs": [],
   "source": [
    "R = 0.03\n",
    "r = np.linspace(0, R, 200)\n",
    "theta = np.linspace(0, 2*np.pi, 300)"
   ]
  },
  {
   "cell_type": "code",
   "execution_count": 189,
   "metadata": {},
   "outputs": [],
   "source": [
    "#setting up the meshgrid:\n",
    "theta_matrix, radius_matrix = np.meshgrid(theta,r)\n",
    "X = radius_matrix * np.cos(theta_matrix)\n",
    "Y = radius_matrix * np.sin(theta_matrix)"
   ]
  },
  {
   "cell_type": "code",
   "execution_count": 190,
   "metadata": {},
   "outputs": [],
   "source": [
    "T = np.zeros((len(r), len(theta)))"
   ]
  },
  {
   "cell_type": "code",
   "execution_count": 191,
   "metadata": {},
   "outputs": [],
   "source": [
    "dr = r[1]-r[0]\n",
    "dth = theta[1]-theta[0]\n",
    "alph = 1e-7"
   ]
  },
  {
   "cell_type": "code",
   "execution_count": 192,
   "metadata": {
    "scrolled": false
   },
   "outputs": [
    {
     "data": {
      "text/plain": [
       "array([5.01459828e-05, 2.00274600e-04, 4.49528470e-04, 7.96535844e-04,\n",
       "       1.23942875e-03, 1.77586728e-03, 2.40306947e-03, 3.11784606e-03,\n",
       "       3.91663931e-03, 4.79556509e-03, 5.75045734e-03, 6.77691392e-03,\n",
       "       7.87034311e-03, 9.02600988e-03, 1.02390811e-02, 1.15046691e-02,\n",
       "       1.28178729e-02, 1.41738170e-02, 1.55676866e-02, 1.69947592e-02,\n",
       "       1.84504339e-02, 1.99302552e-02, 2.14299343e-02, 2.29453667e-02,\n",
       "       2.44726456e-02, 2.60080729e-02, 2.75481661e-02, 2.90896636e-02,\n",
       "       3.06295260e-02, 3.21649362e-02, 3.36932970e-02, 3.52122270e-02,\n",
       "       3.67195549e-02, 3.82133131e-02, 3.96917295e-02, 4.11532192e-02,\n",
       "       4.25963752e-02, 4.40199592e-02, 4.54228913e-02, 4.68042408e-02,\n",
       "       4.81632156e-02, 4.94991533e-02, 5.08115109e-02, 5.20998561e-02,\n",
       "       5.33638579e-02, 5.46032785e-02, 5.58179645e-02, 5.70078398e-02,\n",
       "       5.81728978e-02, 5.93131945e-02, 6.04288424e-02, 6.15200038e-02,\n",
       "       6.25868860e-02, 6.36297353e-02, 6.46488325e-02, 6.56444887e-02,\n",
       "       6.66170407e-02, 6.75668476e-02, 6.84942873e-02, 6.93997534e-02,\n",
       "       7.02836522e-02, 7.11464003e-02, 7.19884224e-02, 7.28101487e-02,\n",
       "       7.36120137e-02, 7.43944539e-02, 7.51579067e-02, 7.59028089e-02,\n",
       "       7.66295955e-02, 7.73386987e-02, 7.80305472e-02, 7.87055649e-02,\n",
       "       7.93641706e-02, 8.00067773e-02, 8.06337918e-02, 8.12456139e-02,\n",
       "       8.18426366e-02, 8.24252453e-02, 8.29938178e-02, 8.35487241e-02,\n",
       "       8.40903262e-02, 8.46189781e-02, 8.51350258e-02, 8.56388068e-02,\n",
       "       8.61306507e-02, 8.66108790e-02, 8.70798049e-02, 8.75377339e-02,\n",
       "       8.79849633e-02, 8.84217827e-02, 8.88484738e-02, 8.92653110e-02,\n",
       "       8.96725609e-02, 9.00704830e-02, 9.04593295e-02, 9.08393456e-02,\n",
       "       9.12107695e-02, 9.15738328e-02, 9.19287603e-02, 9.22757707e-02,\n",
       "       9.26150761e-02, 9.29468826e-02, 9.32713905e-02, 9.35887941e-02,\n",
       "       9.38992821e-02, 9.42030378e-02, 9.45002391e-02, 9.47910586e-02,\n",
       "       9.50756641e-02, 9.53542183e-02, 9.56268791e-02, 9.58938002e-02,\n",
       "       9.61551302e-02, 9.64110138e-02, 9.66615913e-02, 9.69069991e-02,\n",
       "       9.71473692e-02, 9.73828302e-02, 9.76135068e-02, 9.78395200e-02,\n",
       "       9.80609874e-02, 9.82780232e-02, 9.84907382e-02, 9.86992400e-02,\n",
       "       9.89036333e-02, 9.91040197e-02, 9.93004977e-02, 9.94931632e-02,\n",
       "       9.96821093e-02, 9.98674266e-02, 1.00049203e-01, 1.00227523e-01,\n",
       "       1.00402471e-01, 1.00574127e-01, 1.00742570e-01, 1.00907875e-01,\n",
       "       1.01070117e-01, 1.01229368e-01, 1.01385698e-01, 1.01539175e-01,\n",
       "       1.01689864e-01, 1.01837832e-01, 1.01983140e-01, 1.02125849e-01,\n",
       "       1.02266018e-01, 1.02403706e-01, 1.02538968e-01, 1.02671859e-01,\n",
       "       1.02802432e-01, 1.02930739e-01, 1.03056830e-01, 1.03180754e-01,\n",
       "       1.03302560e-01, 1.03422292e-01, 1.03539998e-01, 1.03655720e-01,\n",
       "       1.03769503e-01, 1.03881386e-01, 1.03991413e-01, 1.04099621e-01,\n",
       "       1.04206050e-01, 1.04310737e-01, 1.04413719e-01, 1.04515032e-01,\n",
       "       1.04614712e-01, 1.04712791e-01, 1.04809303e-01, 1.04904280e-01,\n",
       "       1.04997754e-01, 1.05089756e-01, 1.05180315e-01, 1.05269462e-01,\n",
       "       1.05357224e-01, 1.05443629e-01, 1.05528704e-01, 1.05612477e-01,\n",
       "       1.05694972e-01, 1.05776216e-01, 1.05856232e-01, 1.05935045e-01,\n",
       "       1.06012678e-01, 1.06089154e-01, 1.06164496e-01, 1.06238726e-01,\n",
       "       1.06311864e-01, 1.06383932e-01, 1.06454950e-01, 1.06524938e-01,\n",
       "       1.06593916e-01, 1.06661901e-01, 1.06728914e-01, 1.06794972e-01,\n",
       "       1.06860093e-01, 1.06924294e-01, 1.06987592e-01, 1.07050003e-01,\n",
       "       1.07111545e-01, 1.07172232e-01, 1.07232080e-01])"
      ]
     },
     "execution_count": 192,
     "metadata": {},
     "output_type": "execute_result"
    }
   ],
   "source": [
    "#stability\n",
    "1/(1/r[1:]*(alph/dr) + 2*alph/(dr**2) + 2/(r[1:]**2)*(alph/(dth**2)))"
   ]
  },
  {
   "cell_type": "code",
   "execution_count": 166,
   "metadata": {},
   "outputs": [],
   "source": [
    "dt = 0.1"
   ]
  },
  {
   "cell_type": "code",
   "execution_count": 167,
   "metadata": {},
   "outputs": [],
   "source": [
    "#COnvective\n",
    "L1 = dth*R\n",
    "L2 = dth*(R-dr/2)\n",
    "L3 = dr/2\n",
    "A = 0.5*dth*(R**2-(R-dr/2)**2)\n",
    "\n",
    "d = 521\n",
    "c = 2800 #J/kg\n",
    "h = 300\n",
    "Tinf = 180\n",
    "\n",
    "B1 = L1*dt/d/c/A\n",
    "B2 = alph*L2*dt/A/dr\n",
    "B3 = alph*L3*dt/A/dth/R"
   ]
  },
  {
   "cell_type": "code",
   "execution_count": 168,
   "metadata": {},
   "outputs": [
    {
     "data": {
      "text/plain": [
       "4.275713942562497"
      ]
     },
     "execution_count": 168,
     "metadata": {},
     "output_type": "execute_result"
    }
   ],
   "source": [
    "#convection stability\n",
    "1/(h*L1/d/c/A + alph*L2/A/dr + 2*alph*L3/A/dth/R)"
   ]
  },
  {
   "cell_type": "code",
   "execution_count": 169,
   "metadata": {},
   "outputs": [],
   "source": [
    "for i in range(len(theta)):\n",
    "    n = i \n",
    "    if theta[i] > np.pi:\n",
    "        break"
   ]
  },
  {
   "cell_type": "code",
   "execution_count": 186,
   "metadata": {
    "scrolled": false
   },
   "outputs": [],
   "source": [
    "T = np.zeros((len(r), len(theta)))\n",
    "dt = 1\n",
    "#Boundary conditions\n",
    "for i in range(len(theta)):\n",
    "    n = i \n",
    "    if theta[i] >= np.pi:\n",
    "        break\n",
    "h = np.zeros(T.shape)\n",
    "Tinf = np.zeros(T.shape)\n",
    "\n",
    "h[-1,:n] = 20\n",
    "h[-1,n:] = 300\n",
    "h[-1,0] = 300\n",
    "\n",
    "Tinf[-1,:n] = 50\n",
    "Tinf[-1,n:] = 180\n",
    "Tinf[-1,0] = 180\n",
    "\n",
    "T[:,:] = 21\n",
    "\n",
    "Tp = np.copy(T)\n",
    "rad = np.zeros(T.shape)\n",
    "for i in range(len(r)):\n",
    "    rad[i,:] = r[i]\n",
    "    \n",
    "C1 = alph*dt/dr\n",
    "C2 = alph*dt/dr**2\n",
    "C3 = alph*dt/dth**2\n",
    "\n",
    "N = 8000\n",
    "plot = []\n",
    "Tplot = np.zeros((8, len(r), len(theta)))\n",
    "for t in range(N):\n",
    "    #Convective heat transfer\n",
    "    \n",
    "    Tp[-1,1:-1] = T[-1,1:-1] + B1*h[-1,1:-1]*(Tinf[-1,1:-1] - T[-1,1:-1]) + B2*(T[-2,1:-1]-T[-1,1:-1]) + B3*(T[-1,2:] - T[-1,1:-1] + T[-1,:-2])\n",
    "    Tp[-1,0] = T[-1,0] + B1*h[-1,0]*(Tinf[-1,0] - T[-1,0]) + B2*(T[-2,0]-T[-1,0]) + B3*(T[-1,1] - T[-1,0] + T[-1,1])\n",
    "    Tp[-1,-1] = Tp[-1,0]\n",
    "    \n",
    "    #Conductive heat transfer\n",
    "    Tp[1:-1, 1:-1] = T[1:-1,1:-1] + C1/rad[1:-1,1:-1]*(T[2:,1:-1]-T[1:-1,1:-1]) + \\\n",
    "    C2*(T[2:,1:-1]-2*T[1:-1,1:-1]+T[:-2,1:-1]) + \\\n",
    "    C3/rad[1:-1,1:-1]*(T[1:-1,2:]-2*T[1:-1,1:-1]+T[1:-1,:-2])\n",
    "    \n",
    "    #Accounting for theta = 0\n",
    "    Tp[1:-1,0] = T[1:-1,0] + C1/rad[1:-1,0]*(T[2:,0]-T[1:-1,0]) + \\\n",
    "    C2*(T[2:,0]-2*T[1:-1,0]+T[:-2,0]) + \\\n",
    "    C3/rad[1:-1,0]*(T[1:-1,1]-2*T[1:-1,0]+T[1:-1,-2])\n",
    "    \n",
    "    \n",
    "    #Accounting for theta = 2pi\n",
    "    Tp[1:-1,-1] =T[1:-1,0] \n",
    "  \n",
    "    #Accounting for r = 0\n",
    "    Tp[0, :] = np.average(T[1,:])\n",
    "    \n",
    "    if t == N/2:\n",
    "        m = int(len(theta)/2)\n",
    "        Tnew = np.copy(Tp)\n",
    "        for i in range(len(theta)-1):\n",
    "            Tp[:,i] = Tnew[:,i-m]\n",
    "    \n",
    "    \n",
    "    if t == 1:\n",
    "        Tplot[0] = T\n",
    "     \n",
    "    \n",
    "    T = np.copy(Tp)"
   ]
  },
  {
   "cell_type": "code",
   "execution_count": 187,
   "metadata": {},
   "outputs": [
    {
     "data": {
      "text/plain": [
       "<matplotlib.colorbar.Colorbar at 0x27d759a5908>"
      ]
     },
     "execution_count": 187,
     "metadata": {},
     "output_type": "execute_result"
    },
    {
     "data": {
      "image/png": "[encoded data removed]",
      "text/plain": [
       "<Figure size 432x288 with 2 Axes>"
      ]
     },
     "metadata": {
      "needs_background": "light"
     },
     "output_type": "display_data"
    }
   ],
   "source": [
    "plt.contourf(X,Y,Tp, 100)\n",
    "plt.colorbar()"
   ]
  },
  {
   "cell_type": "code",
   "execution_count": null,
   "metadata": {},
   "outputs": [],
   "source": []
  }
 ],
 "metadata": {
  "kernelspec": {
   "display_name": "Python 3",
   "language": "python",
   "name": "python3"
  },
  "language_info": {
   "codemirror_mode": {
    "name": "ipython",
    "version": 3
   },
   "file_extension": ".py",
   "mimetype": "text/x-python",
   "name": "python",
   "nbconvert_exporter": "python",
   "pygments_lexer": "ipython3",
   "version": "3.6.9"
  }
 },
 "nbformat": 4,
 "nbformat_minor": 2
}
